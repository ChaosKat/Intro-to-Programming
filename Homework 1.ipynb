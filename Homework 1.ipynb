{
  "nbformat": 4,
  "nbformat_minor": 5,
  "metadata": {
    "kernelspec": {
      "display_name": "Python 3",
      "language": "python",
      "name": "python3"
    },
    "language_info": {
      "codemirror_mode": {
        "name": "ipython",
        "version": 3
      },
      "file_extension": ".py",
      "mimetype": "text/x-python",
      "name": "python",
      "nbconvert_exporter": "python",
      "pygments_lexer": "ipython3",
      "version": "3.9.5"
    },
    "colab": {
      "name": "Homework 1.ipynb",
      "provenance": []
    }
  },
  "cells": [
    {
      "cell_type": "markdown",
      "metadata": {
        "id": "a7226225-51fe-406c-aa3f-9b7a98bcff11"
      },
      "source": [
        "# Homework 1\n",
        "\n",
        "**Reading:** Read chapters 2 and 3 in the textbook. Remember it is online. Where it is discussing the *math* pakcage you can use the *numpy* package instead as you are following along.\n",
        "\n",
        "## Question 1:\n",
        "\n",
        "Suppose that the cover price of a book is 24.95 dollars, however bookstores get a 40% discount. Shipping costs 3 dollars for the first copy and 75 cents for each additional copy. \n",
        "\n",
        "Write a function that returns the total wholesale cost for an order of n books.\n",
        "\n",
        "## Question 2: \n",
        "\n",
        "What type is the input, what type is the output?\n",
        "\n",
        "## Quesiton 3:\n",
        "\n",
        "If you were to pass your function a float as an input, what happens? Does it work?\n",
        "\n",
        "## Question 4:\n",
        "\n",
        "Functions are actually objects themselves, and they have a type. As a result you can pass functions to other functions.\n",
        "\n",
        "Write a function that will take a function object and an argument, and return the value of that function evaluated at the argument and then summed with itself."
      ],
      "id": "a7226225-51fe-406c-aa3f-9b7a98bcff11"
    },
    {
      "cell_type": "code",
      "metadata": {
        "id": "4e555c9a-3443-453e-b062-66e3aa5adfa2",
        "outputId": "5459f4bb-abe9-4f2b-c6ba-c31631f1495e"
      },
      "source": [
        "def example():\n",
        "    \n",
        "    print('example function')\n",
        "    \n",
        "    return None\n",
        "\n",
        "type(example)"
      ],
      "id": "4e555c9a-3443-453e-b062-66e3aa5adfa2",
      "execution_count": null,
      "outputs": [
        {
          "data": {
            "text/plain": [
              "function"
            ]
          },
          "execution_count": 1,
          "metadata": {},
          "output_type": "execute_result"
        }
      ]
    },
    {
      "cell_type": "code",
      "metadata": {
        "id": "ede5b44a-10bb-4d2a-800e-67222bc48c0e",
        "outputId": "9bafe8dd-2403-45b3-c974-3c4bdc651e54"
      },
      "source": [
        "def do_twice(f):\n",
        "    \n",
        "    f()\n",
        "    f()\n",
        "    \n",
        "    return None\n",
        "\n",
        "do_twice(example)"
      ],
      "id": "ede5b44a-10bb-4d2a-800e-67222bc48c0e",
      "execution_count": null,
      "outputs": [
        {
          "name": "stdout",
          "output_type": "stream",
          "text": [
            "example function\n",
            "example function\n"
          ]
        }
      ]
    },
    {
      "cell_type": "code",
      "metadata": {
        "id": "790d0218-7300-4747-93e5-9b39abd0c061"
      },
      "source": [
        "def book_cost(books_ordered):\n",
        "\n",
        "  base_cost = (24.95*.6)*books_ordered\n",
        "  shipping_cost = 3 + .75 *(books_ordered - 1)\n",
        "  total_cost = base_cost + shipping_cost\n",
        "  return total_cost\n",
        "\n",
        "book_cost(5)"
      ],
      "id": "790d0218-7300-4747-93e5-9b39abd0c061",
      "execution_count": null,
      "outputs": []
    },
    {
      "cell_type": "code",
      "metadata": {
        "id": "uYVuQPHbMAlt"
      },
      "source": [
        ""
      ],
      "id": "uYVuQPHbMAlt",
      "execution_count": null,
      "outputs": []
    }
  ]
}